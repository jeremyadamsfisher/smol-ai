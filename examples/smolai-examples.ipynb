{
 "cells": [
  {
   "cell_type": "code",
   "execution_count": 1,
   "id": "9dfc5726-8904-4a1e-9623-c0cdc2982839",
   "metadata": {},
   "outputs": [
    {
     "name": "stderr",
     "output_type": "stream",
     "text": [
      "/Users/jeremyfisher/mambaforge/envs/smolai/lib/python3.10/site-packages/tqdm/auto.py:22: TqdmWarning: IProgress not found. Please update jupyter and ipywidgets. See https://ipywidgets.readthedocs.io/en/stable/user_install.html\n",
      "  from .autonotebook import tqdm as notebook_tqdm\n"
     ]
    }
   ],
   "source": [
    "import torch\n",
    "from torch.nn import CrossEntropyLoss, Linear, Module, ReLU, Sequential\n",
    "from torch.utils.data import DataLoader\n",
    "from torchvision.datasets import MNIST\n",
    "from torchvision.transforms import ToTensor\n",
    "\n",
    "from smolai import Trainer\n",
    "from smolai.callbacks.report import ReportAverageLossWithPlot, ReportMetricsWithLogger\n",
    "from smolai.metrics import Accuracy\n",
    "from smolai.callbacks.lr import LrFinder"
   ]
  },
  {
   "cell_type": "code",
   "execution_count": 2,
   "id": "367a5d6b-7f03-4614-836c-1b3260a14194",
   "metadata": {},
   "outputs": [],
   "source": [
    "train_ds = MNIST(root=\"data\", train=True, download=True, transform=ToTensor())\n",
    "train_dl = DataLoader(train_ds, batch_size=256, shuffle=True)\n",
    "test_ds = MNIST(root=\"data\", train=False, download=True, transform=ToTensor())\n",
    "test_dl = DataLoader(test_ds, batch_size=256, shuffle=False)"
   ]
  },
  {
   "cell_type": "code",
   "execution_count": 3,
   "id": "7176962c-976a-4a2f-a4b9-286f4cd8b6c1",
   "metadata": {},
   "outputs": [],
   "source": [
    "class MnistModel(Module):\n",
    "    def __init__(self) -> None:\n",
    "        super().__init__()\n",
    "        self.net = Sequential(\n",
    "            Linear(28 * 28, 30),\n",
    "            ReLU(),\n",
    "            Linear(30, 10),\n",
    "        )\n",
    "\n",
    "    def forward(self, xb):\n",
    "        return self.net(xb.view(xb.size(0), -1))"
   ]
  },
  {
   "cell_type": "code",
   "execution_count": 4,
   "id": "9ac6c2a1-b1e4-4c4e-a21d-fec1e95b0667",
   "metadata": {},
   "outputs": [],
   "source": [
    "model = MnistModel()\n",
    "criterion=CrossEntropyLoss()"
   ]
  },
  {
   "cell_type": "code",
   "execution_count": 5,
   "id": "bb512cff-9f20-49a2-9b47-4b5e8b6ac8fd",
   "metadata": {},
   "outputs": [],
   "source": [
    "lrf = LrFinder()"
   ]
  },
  {
   "cell_type": "code",
   "execution_count": null,
   "id": "ee87ec9f-9e5d-4d09-a64f-d08d3454b96c",
   "metadata": {},
   "outputs": [],
   "source": [
    "trainer = Trainer(\n",
    "    model=MnistModel(),\n",
    "    criterion=CrossEntropyLoss(),\n",
    "    opt_func=torch.optim.AdamW,\n",
    "    callbacks=[lrf],\n",
    "    lr=1e-10\n",
    ").fit(train_dl=train_dl)"
   ]
  },
  {
   "cell_type": "code",
   "execution_count": null,
   "id": "ea8ed361-acc8-4728-9130-abe13d9c9ca6",
   "metadata": {},
   "outputs": [],
   "source": [
    "lrf.plot()"
   ]
  },
  {
   "cell_type": "code",
   "execution_count": null,
   "id": "f9795f68-e1a1-4ae0-89db-b10a2a5d67b5",
   "metadata": {},
   "outputs": [],
   "source": []
  }
 ],
 "metadata": {
  "kernelspec": {
   "display_name": "SmolAI",
   "language": "python",
   "name": "smolai"
  },
  "language_info": {
   "codemirror_mode": {
    "name": "ipython",
    "version": 3
   },
   "file_extension": ".py",
   "mimetype": "text/x-python",
   "name": "python",
   "nbconvert_exporter": "python",
   "pygments_lexer": "ipython3",
   "version": "3.10.8"
  }
 },
 "nbformat": 4,
 "nbformat_minor": 5
}
